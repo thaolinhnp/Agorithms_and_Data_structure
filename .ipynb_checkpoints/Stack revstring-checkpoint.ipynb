{
 "cells": [
  {
   "cell_type": "markdown",
   "metadata": {},
   "source": [
    "Write a function revstring(mystr) that uses a stack to reverse the characters in a string."
   ]
  },
  {
   "cell_type": "code",
   "execution_count": 11,
   "metadata": {
    "ExecuteTime": {
     "end_time": "2020-03-20T15:31:23.833116Z",
     "start_time": "2020-03-20T15:31:23.810314Z"
    }
   },
   "outputs": [
    {
     "data": {
      "text/plain": [
       "'0987654321'"
      ]
     },
     "execution_count": 11,
     "metadata": {},
     "output_type": "execute_result"
    }
   ],
   "source": [
    "# from test import testEqual\n",
    "from pythonds.basic import Stack\n",
    "\n",
    "def revstring(mystr):\n",
    "    s = Stack()\n",
    "    for i in mystr:\n",
    "        s.push(i)\n",
    "    revstr = ''\n",
    "    while not s.isEmpty():\n",
    "        revstr = revstr+s.pop()\n",
    "    return revstr\n",
    "\n",
    "# testEqual(revstring('apple'),'elppa')\n",
    "# testEqual(revstring('x'),'x')\n",
    "# testEqual(revstring('1234567890'),'0987654321')\n",
    "\n",
    "revstring('1234567890')"
   ]
  }
 ],
 "metadata": {
  "kernelspec": {
   "display_name": "Python 3",
   "language": "python",
   "name": "python3"
  },
  "language_info": {
   "codemirror_mode": {
    "name": "ipython",
    "version": 3
   },
   "file_extension": ".py",
   "mimetype": "text/x-python",
   "name": "python",
   "nbconvert_exporter": "python",
   "pygments_lexer": "ipython3",
   "version": "3.6.4"
  },
  "toc": {
   "base_numbering": 1,
   "nav_menu": {},
   "number_sections": true,
   "sideBar": true,
   "skip_h1_title": false,
   "title_cell": "Table of Contents",
   "title_sidebar": "Contents",
   "toc_cell": false,
   "toc_position": {},
   "toc_section_display": true,
   "toc_window_display": false
  }
 },
 "nbformat": 4,
 "nbformat_minor": 2
}
